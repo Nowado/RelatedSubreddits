{
 "cells": [
  {
   "cell_type": "code",
   "execution_count": 218,
   "metadata": {},
   "outputs": [],
   "source": [
    "import praw\n",
    "import pandas as pd\n",
    "import numpy as np\n",
    "from praw.models import MoreComments\n",
    "import time\n",
    "import numpy as np"
   ]
  },
  {
   "cell_type": "code",
   "execution_count": 33,
   "metadata": {},
   "outputs": [],
   "source": [
    "reddit = praw.Reddit(client_id='my client id',\n",
    "                     client_secret='my client secret',\n",
    "                     user_agent='my user agent',\n",
    "                     username='my username',\n",
    "                     password='my password')"
   ]
  },
  {
   "cell_type": "code",
   "execution_count": 190,
   "metadata": {},
   "outputs": [],
   "source": [
    "def get_commentiers(submission):\n",
    "    temp=[]\n",
    "    for top_level_comment in submission.comments:\n",
    "        if isinstance(top_level_comment, MoreComments):\n",
    "            continue\n",
    "        temp.append(top_level_comment.author)\n",
    "    return temp"
   ]
  },
  {
   "cell_type": "code",
   "execution_count": 191,
   "metadata": {},
   "outputs": [],
   "source": [
    "def get_comments_subs(redditor):\n",
    "    temp=[]\n",
    "    if redditor!=None:\n",
    "        for comment in redditor.comments.new(limit=500):\n",
    "            temp.append(comment.subreddit.display_name)\n",
    "    return temp"
   ]
  },
  {
   "cell_type": "code",
   "execution_count": 198,
   "metadata": {},
   "outputs": [],
   "source": [
    "def thread2subreddits(ID):\n",
    "    submission = reddit.submission(ID)\n",
    "    commentiers=get_commentiers(submission)\n",
    "    index=[]\n",
    "    for commentier in commentiers:\n",
    "        if commentier!=None:\n",
    "            if commentier.name in all_users:\n",
    "                commentiers.remove(commentier)\n",
    "            else:\n",
    "                index.append(commentier.name)\n",
    "                all_users.append(commentier.name)\n",
    "    df=pd.DataFrame(index=index)\n",
    "    i=0\n",
    "    for commentier in commentiers:\n",
    "        if commentier!=None:\n",
    "            if commentier.name in index:\n",
    "                print('Redditor no. '+str(i+1)+' out of '+str(len(commentiers)))\n",
    "                subs=set(get_comments_subs(commentier))\n",
    "                for sub in subs:\n",
    "                    if sub in df.columns:\n",
    "                        df[sub].loc[commentier.name]=df[sub].loc[commentier.name]+1\n",
    "                    else:\n",
    "                        df[sub]=0\n",
    "                        df[sub].loc[commentier.name]=1\n",
    "        i+=1\n",
    "    return df"
   ]
  },
  {
   "cell_type": "code",
   "execution_count": 193,
   "metadata": {},
   "outputs": [],
   "source": [
    "def thread2subredditsDic(ID):\n",
    "    subs={}\n",
    "    submission = reddit.submission(ID)\n",
    "    commentiers=get_commentiers(submission)\n",
    "    for commentier in commentiers:\n",
    "        subreddits=set(get_comments_subs(commentier))\n",
    "        for sub in subreddits:\n",
    "            if sub in subs.keys():\n",
    "                subs[sub]=subs[sub]+1\n",
    "            else:\n",
    "                subs[sub]=1\n",
    "    return subs"
   ]
  },
  {
   "cell_type": "code",
   "execution_count": 194,
   "metadata": {
    "scrolled": true
   },
   "outputs": [],
   "source": [
    "def get_new(name):\n",
    "    temp=[]\n",
    "    for a in reddit.subreddit('dankmemes').new():\n",
    "        if a in all_threads:\n",
    "            break\n",
    "        temp.append(a)\n",
    "        all_threads.append(a)\n",
    "    return temp"
   ]
  },
  {
   "cell_type": "code",
   "execution_count": 202,
   "metadata": {},
   "outputs": [],
   "source": [
    "def run_full(subreddit,runs=60,wait=600):\n",
    "    full_df=pd.DataFrame()\n",
    "    i=0\n",
    "    for run in range(runs):\n",
    "        print('Run '+str(i+1)+' out of '+str(runs))\n",
    "        threads=get_new(subreddit)\n",
    "        j=0\n",
    "        for thread in threads:\n",
    "            print('Thread '+str(j+1)+' out of '+str(len(threads)))\n",
    "            subs_df=thread2subreddits(thread)\n",
    "            full_df=pd.concat([subs_df,full_df])\n",
    "            j+=1\n",
    "        print('Finished run, waiting '+str(wait)+'seconds')\n",
    "        time.sleep(wait)\n",
    "        i+=1\n",
    "        if i%10==0:\n",
    "            full_df2=full_df.fillna(0)\n",
    "            total = full_df2.apply(np.sum)\n",
    "            full_df2=full_df2.append(pd.DataFrame(total.values, index=total.keys()).T)\n",
    "            as_list = full_df2.index.tolist()\n",
    "            idx = as_list.index(0)\n",
    "            as_list[idx] = 'Sum'\n",
    "            full_df2.index = as_list\n",
    "            full_df2.sort_values(by='Sum',ascending=False,axis=1)\n",
    "            full2.to_csv(str(i)+'.csv')\n",
    "    \n",
    "    full_df2=full_df.fillna(0)\n",
    "    total = full_df2.apply(np.sum)\n",
    "    full_df2=full_df2.append(pd.DataFrame(total.values, index=total.keys()).T)\n",
    "    as_list = full_df2.index.tolist()\n",
    "    idx = as_list.index(0)\n",
    "    as_list[idx] = 'Sum'\n",
    "    full_df2.index = as_list\n",
    "    full_df2.sort_values(by='Sum',ascending=False,axis=1)\n",
    "    full2.to_csv('things.csv')\n",
    "    return full_df2"
   ]
  },
  {
   "cell_type": "code",
   "execution_count": 302,
   "metadata": {},
   "outputs": [],
   "source": [
    "all_threads=[]\n",
    "all_subs=[]\n",
    "all_users=[]\n",
    "full=run_full('dankmemes',runs=300,wait=150) # first argument is subreddit name. wait decides seconds waited after each full run, set higher for less active subs. runs decides amount of runs, set higher for more data."
   ]
  },
  {
   "cell_type": "code",
   "execution_count": null,
   "metadata": {},
   "outputs": [],
   "source": []
  },
  {
   "cell_type": "code",
   "execution_count": null,
   "metadata": {},
   "outputs": [],
   "source": []
  },
  {
   "cell_type": "code",
   "execution_count": null,
   "metadata": {
    "scrolled": true
   },
   "outputs": [],
   "source": []
  },
  {
   "cell_type": "code",
   "execution_count": null,
   "metadata": {},
   "outputs": [],
   "source": []
  },
  {
   "cell_type": "code",
   "execution_count": null,
   "metadata": {
    "scrolled": true
   },
   "outputs": [],
   "source": []
  },
  {
   "cell_type": "code",
   "execution_count": null,
   "metadata": {},
   "outputs": [],
   "source": []
  },
  {
   "cell_type": "code",
   "execution_count": null,
   "metadata": {},
   "outputs": [],
   "source": []
  },
  {
   "cell_type": "code",
   "execution_count": null,
   "metadata": {
    "scrolled": true
   },
   "outputs": [],
   "source": []
  },
  {
   "cell_type": "code",
   "execution_count": null,
   "metadata": {},
   "outputs": [],
   "source": []
  }
 ],
 "metadata": {
  "kernelspec": {
   "display_name": "Python 3",
   "language": "python",
   "name": "python3"
  },
  "language_info": {
   "codemirror_mode": {
    "name": "ipython",
    "version": 3
   },
   "file_extension": ".py",
   "mimetype": "text/x-python",
   "name": "python",
   "nbconvert_exporter": "python",
   "pygments_lexer": "ipython3",
   "version": "3.6.8"
  }
 },
 "nbformat": 4,
 "nbformat_minor": 2
}
